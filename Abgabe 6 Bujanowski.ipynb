{
 "cells": [
  {
   "cell_type": "markdown",
   "id": "5462528e",
   "metadata": {},
   "source": [
    "### Abgabe 6 Evgeniya Bujanowski"
   ]
  },
  {
   "cell_type": "markdown",
   "id": "32595621",
   "metadata": {},
   "source": [
    "### 1. Schauen Sie sich das Jupyter Notebook aus der Veranstaltung „Daten managen I“ an und vollziehen die Schritte aus dem Live-Coding bis zur Zusammenführung der Umwelt- und Wetterdaten noch einmal nach. "
   ]
  },
  {
   "cell_type": "code",
   "execution_count": 16,
   "id": "91c34825",
   "metadata": {},
   "outputs": [
    {
     "data": {
      "text/plain": [
       "20"
      ]
     },
     "execution_count": 16,
     "metadata": {},
     "output_type": "execute_result"
    }
   ],
   "source": [
    "10 + 10"
   ]
  },
  {
   "cell_type": "code",
   "execution_count": 17,
   "id": "fe693a0e",
   "metadata": {},
   "outputs": [
    {
     "data": {
      "text/plain": [
       "2.0"
      ]
     },
     "execution_count": 17,
     "metadata": {},
     "output_type": "execute_result"
    }
   ],
   "source": [
    "20  / 10"
   ]
  },
  {
   "cell_type": "code",
   "execution_count": 18,
   "id": "6c9c34ea",
   "metadata": {},
   "outputs": [
    {
     "name": "stdout",
     "output_type": "stream",
     "text": [
      "Hello World\n"
     ]
    }
   ],
   "source": [
    "print(\"Hello World\")"
   ]
  },
  {
   "cell_type": "code",
   "execution_count": 19,
   "id": "0e5f70b1",
   "metadata": {},
   "outputs": [],
   "source": [
    "pi = 3.14159"
   ]
  },
  {
   "cell_type": "code",
   "execution_count": 20,
   "id": "945f88aa",
   "metadata": {},
   "outputs": [],
   "source": [
    "sentence = \"Data literacy is useful.\""
   ]
  },
  {
   "cell_type": "code",
   "execution_count": 21,
   "id": "09b09384",
   "metadata": {},
   "outputs": [
    {
     "data": {
      "text/plain": [
       "'Data literacy is useful.'"
      ]
     },
     "execution_count": 21,
     "metadata": {},
     "output_type": "execute_result"
    }
   ],
   "source": [
    "sentence"
   ]
  },
  {
   "cell_type": "code",
   "execution_count": 22,
   "id": "be05a039",
   "metadata": {},
   "outputs": [
    {
     "data": {
      "text/plain": [
       "24"
      ]
     },
     "execution_count": 22,
     "metadata": {},
     "output_type": "execute_result"
    }
   ],
   "source": [
    "len(sentence)"
   ]
  },
  {
   "cell_type": "code",
   "execution_count": 23,
   "id": "50185768",
   "metadata": {},
   "outputs": [
    {
     "data": {
      "text/plain": [
       "'DATA LITERACY IS USEFUL.'"
      ]
     },
     "execution_count": 23,
     "metadata": {},
     "output_type": "execute_result"
    }
   ],
   "source": [
    "sentence.upper()"
   ]
  },
  {
   "cell_type": "code",
   "execution_count": 24,
   "id": "d3783aca",
   "metadata": {},
   "outputs": [
    {
     "data": {
      "text/plain": [
       "3"
      ]
     },
     "execution_count": 24,
     "metadata": {},
     "output_type": "execute_result"
    }
   ],
   "source": [
    "sentence.count(\"a\")"
   ]
  },
  {
   "cell_type": "code",
   "execution_count": 25,
   "id": "2b1cd004",
   "metadata": {},
   "outputs": [
    {
     "data": {
      "text/plain": [
       "'DAtA literAcy is useful.'"
      ]
     },
     "execution_count": 25,
     "metadata": {},
     "output_type": "execute_result"
    }
   ],
   "source": [
    "sentence.replace(\"a\", \"A\")"
   ]
  },
  {
   "cell_type": "code",
   "execution_count": 26,
   "id": "c51d1dee",
   "metadata": {},
   "outputs": [],
   "source": [
    "list_of_numbers = [5, 9, 12, 34]"
   ]
  },
  {
   "cell_type": "code",
   "execution_count": 27,
   "id": "648eb8c2",
   "metadata": {},
   "outputs": [
    {
     "data": {
      "text/plain": [
       "5"
      ]
     },
     "execution_count": 27,
     "metadata": {},
     "output_type": "execute_result"
    }
   ],
   "source": [
    "list_of_numbers[0]"
   ]
  },
  {
   "cell_type": "markdown",
   "id": "6c8cf1b8",
   "metadata": {},
   "source": [
    "----------------------------------------------"
   ]
  },
  {
   "cell_type": "markdown",
   "id": "2ce00bf4",
   "metadata": {},
   "source": [
    "### Reflektieren Sie Ihr Vorgehen und beantworten folgende Fragen: Was hat gut geklappt? Wenn Sie auf Fragen oder Probleme gestoßen sind, erläutern Sie diese kurz und beschreiben auch, welche Lösung Sie ggf. gefunden haben."
   ]
  },
  {
   "cell_type": "markdown",
   "id": "b297870b",
   "metadata": {},
   "source": [
    "Alles hat soweit normal geklappt, ich habe keine Fragen."
   ]
  },
  {
   "cell_type": "markdown",
   "id": "f80c8bc2",
   "metadata": {},
   "source": [
    "----------------------------------------------"
   ]
  },
  {
   "cell_type": "markdown",
   "id": "2cbd2ef2",
   "metadata": {},
   "source": [
    "### 2. Laden Sie mittels Python die folgende Datei mit vom Umweltbundesamt erhobenen Messdaten für die Station Köln Rodenkirchen (DENW059) herunter: \n",
    "\n",
    "### https://raw.githubusercontent.com/konrad/DaLI_Basismodul_WiSe2021_2022/main/data/Rodenkirchen_processed.csv\n",
    "\n",
    "### Lesen Sie die heruntergeladenen Daten, mithilfe der Programmbibliothek pandas, in einen DataFrame‚ \"rodenkirchen\" ein."
   ]
  },
  {
   "cell_type": "code",
   "execution_count": 28,
   "id": "3013a6a4",
   "metadata": {},
   "outputs": [],
   "source": [
    "import pandas as pd"
   ]
  },
  {
   "cell_type": "code",
   "execution_count": 29,
   "id": "6fdf10d0",
   "metadata": {},
   "outputs": [],
   "source": [
    "import urllib.request"
   ]
  },
  {
   "cell_type": "code",
   "execution_count": 30,
   "id": "65467432",
   "metadata": {},
   "outputs": [],
   "source": [
    "rodenkirchen_url = \"https://raw.githubusercontent.com/konrad/DaLI_Basismodul_WiSe2021_2022/main/data/Rodenkirchen_processed.csv\""
   ]
  },
  {
   "cell_type": "code",
   "execution_count": 31,
   "id": "7c4a34b7",
   "metadata": {},
   "outputs": [],
   "source": [
    "rodenkirchen_file = \"rodenkirchen.csv\""
   ]
  },
  {
   "cell_type": "code",
   "execution_count": 32,
   "id": "dfff64e9",
   "metadata": {},
   "outputs": [
    {
     "data": {
      "text/plain": [
       "('rodenkirchen.csv', <http.client.HTTPMessage at 0x1f90d57df70>)"
      ]
     },
     "execution_count": 32,
     "metadata": {},
     "output_type": "execute_result"
    }
   ],
   "source": [
    "urllib.request.urlretrieve(rodenkirchen_url, rodenkirchen_file)"
   ]
  },
  {
   "cell_type": "code",
   "execution_count": 33,
   "id": "bb4ada2b",
   "metadata": {},
   "outputs": [],
   "source": [
    "rodenkirchen = pd.read_csv(rodenkirchen_file)"
   ]
  },
  {
   "cell_type": "code",
   "execution_count": 34,
   "id": "054a3959",
   "metadata": {},
   "outputs": [
    {
     "data": {
      "text/html": [
       "<div>\n",
       "<style scoped>\n",
       "    .dataframe tbody tr th:only-of-type {\n",
       "        vertical-align: middle;\n",
       "    }\n",
       "\n",
       "    .dataframe tbody tr th {\n",
       "        vertical-align: top;\n",
       "    }\n",
       "\n",
       "    .dataframe thead th {\n",
       "        text-align: right;\n",
       "    }\n",
       "</style>\n",
       "<table border=\"1\" class=\"dataframe\">\n",
       "  <thead>\n",
       "    <tr style=\"text-align: right;\">\n",
       "      <th></th>\n",
       "      <th>Unnamed: 0</th>\n",
       "      <th>Stationscode</th>\n",
       "      <th>Datum</th>\n",
       "      <th>Feinstaub (PM₁₀) stündlich gleitendes Tagesmittel in µg/m³</th>\n",
       "      <th>Ozon (O₃) Ein-Stunden-Mittelwert in µg/m³</th>\n",
       "      <th>Stickstoffdioxid (NO₂) Ein-Stunden-Mittelwert in µg/m³</th>\n",
       "      <th>Luftqualitätsindex</th>\n",
       "    </tr>\n",
       "  </thead>\n",
       "  <tbody>\n",
       "    <tr>\n",
       "      <th>0</th>\n",
       "      <td>0</td>\n",
       "      <td>DENW059</td>\n",
       "      <td>'01.11.2020 01:00'</td>\n",
       "      <td>10</td>\n",
       "      <td>30</td>\n",
       "      <td>14</td>\n",
       "      <td>sehr gut</td>\n",
       "    </tr>\n",
       "    <tr>\n",
       "      <th>1</th>\n",
       "      <td>1</td>\n",
       "      <td>DENW059</td>\n",
       "      <td>'01.11.2020 02:00'</td>\n",
       "      <td>10</td>\n",
       "      <td>35</td>\n",
       "      <td>8</td>\n",
       "      <td>sehr gut</td>\n",
       "    </tr>\n",
       "    <tr>\n",
       "      <th>2</th>\n",
       "      <td>2</td>\n",
       "      <td>DENW059</td>\n",
       "      <td>'01.11.2020 03:00'</td>\n",
       "      <td>10</td>\n",
       "      <td>-</td>\n",
       "      <td>11</td>\n",
       "      <td>sehr gut</td>\n",
       "    </tr>\n",
       "    <tr>\n",
       "      <th>3</th>\n",
       "      <td>3</td>\n",
       "      <td>DENW059</td>\n",
       "      <td>'01.11.2020 04:00'</td>\n",
       "      <td>10</td>\n",
       "      <td>19</td>\n",
       "      <td>4</td>\n",
       "      <td>sehr gut</td>\n",
       "    </tr>\n",
       "    <tr>\n",
       "      <th>4</th>\n",
       "      <td>4</td>\n",
       "      <td>DENW059</td>\n",
       "      <td>'01.11.2020 05:00'</td>\n",
       "      <td>10</td>\n",
       "      <td>10</td>\n",
       "      <td>3</td>\n",
       "      <td>sehr gut</td>\n",
       "    </tr>\n",
       "    <tr>\n",
       "      <th>...</th>\n",
       "      <td>...</td>\n",
       "      <td>...</td>\n",
       "      <td>...</td>\n",
       "      <td>...</td>\n",
       "      <td>...</td>\n",
       "      <td>...</td>\n",
       "      <td>...</td>\n",
       "    </tr>\n",
       "    <tr>\n",
       "      <th>8732</th>\n",
       "      <td>8732</td>\n",
       "      <td>DENW059</td>\n",
       "      <td>'30.10.2021 22:00'</td>\n",
       "      <td>11</td>\n",
       "      <td>31</td>\n",
       "      <td>19</td>\n",
       "      <td>sehr gut</td>\n",
       "    </tr>\n",
       "    <tr>\n",
       "      <th>8733</th>\n",
       "      <td>8733</td>\n",
       "      <td>DENW059</td>\n",
       "      <td>'30.10.2021 23:00'</td>\n",
       "      <td>11</td>\n",
       "      <td>29</td>\n",
       "      <td>-</td>\n",
       "      <td>sehr gut</td>\n",
       "    </tr>\n",
       "    <tr>\n",
       "      <th>8734</th>\n",
       "      <td>8734</td>\n",
       "      <td>DENW059</td>\n",
       "      <td>'30.10.2021 24:00'</td>\n",
       "      <td>11</td>\n",
       "      <td>16</td>\n",
       "      <td>21</td>\n",
       "      <td>gut</td>\n",
       "    </tr>\n",
       "    <tr>\n",
       "      <th>8735</th>\n",
       "      <td>8735</td>\n",
       "      <td>DENW059</td>\n",
       "      <td>'31.10.2021 01:00'</td>\n",
       "      <td>10</td>\n",
       "      <td>7</td>\n",
       "      <td>17</td>\n",
       "      <td>sehr gut</td>\n",
       "    </tr>\n",
       "    <tr>\n",
       "      <th>8736</th>\n",
       "      <td>8736</td>\n",
       "      <td>DENW059</td>\n",
       "      <td>'31.10.2021 02:00'</td>\n",
       "      <td>10</td>\n",
       "      <td>4</td>\n",
       "      <td>10</td>\n",
       "      <td>sehr gut</td>\n",
       "    </tr>\n",
       "  </tbody>\n",
       "</table>\n",
       "<p>8737 rows × 7 columns</p>\n",
       "</div>"
      ],
      "text/plain": [
       "      Unnamed: 0 Stationscode               Datum  \\\n",
       "0              0      DENW059  '01.11.2020 01:00'   \n",
       "1              1      DENW059  '01.11.2020 02:00'   \n",
       "2              2      DENW059  '01.11.2020 03:00'   \n",
       "3              3      DENW059  '01.11.2020 04:00'   \n",
       "4              4      DENW059  '01.11.2020 05:00'   \n",
       "...          ...          ...                 ...   \n",
       "8732        8732      DENW059  '30.10.2021 22:00'   \n",
       "8733        8733      DENW059  '30.10.2021 23:00'   \n",
       "8734        8734      DENW059  '30.10.2021 24:00'   \n",
       "8735        8735      DENW059  '31.10.2021 01:00'   \n",
       "8736        8736      DENW059  '31.10.2021 02:00'   \n",
       "\n",
       "     Feinstaub (PM₁₀) stündlich gleitendes Tagesmittel in µg/m³  \\\n",
       "0                                                    10           \n",
       "1                                                    10           \n",
       "2                                                    10           \n",
       "3                                                    10           \n",
       "4                                                    10           \n",
       "...                                                 ...           \n",
       "8732                                                 11           \n",
       "8733                                                 11           \n",
       "8734                                                 11           \n",
       "8735                                                 10           \n",
       "8736                                                 10           \n",
       "\n",
       "     Ozon (O₃) Ein-Stunden-Mittelwert in µg/m³  \\\n",
       "0                                           30   \n",
       "1                                           35   \n",
       "2                                            -   \n",
       "3                                           19   \n",
       "4                                           10   \n",
       "...                                        ...   \n",
       "8732                                        31   \n",
       "8733                                        29   \n",
       "8734                                        16   \n",
       "8735                                         7   \n",
       "8736                                         4   \n",
       "\n",
       "     Stickstoffdioxid (NO₂) Ein-Stunden-Mittelwert in µg/m³ Luftqualitätsindex  \n",
       "0                                                    14               sehr gut  \n",
       "1                                                     8               sehr gut  \n",
       "2                                                    11               sehr gut  \n",
       "3                                                     4               sehr gut  \n",
       "4                                                     3               sehr gut  \n",
       "...                                                 ...                    ...  \n",
       "8732                                                 19               sehr gut  \n",
       "8733                                                  -               sehr gut  \n",
       "8734                                                 21                    gut  \n",
       "8735                                                 17               sehr gut  \n",
       "8736                                                 10               sehr gut  \n",
       "\n",
       "[8737 rows x 7 columns]"
      ]
     },
     "execution_count": 34,
     "metadata": {},
     "output_type": "execute_result"
    }
   ],
   "source": [
    "rodenkirchen"
   ]
  },
  {
   "cell_type": "markdown",
   "id": "55352f1d",
   "metadata": {},
   "source": [
    "------------------------"
   ]
  },
  {
   "cell_type": "markdown",
   "id": "f2284f13",
   "metadata": {},
   "source": [
    "### Lassen Sie sich mit der method ‚describe‘ die Überblicksstatistiken zum DataFrame ‚rodenkirchen‘ anzeigen. "
   ]
  },
  {
   "cell_type": "markdown",
   "id": "d488573a",
   "metadata": {},
   "source": [
    "read the documentation https://pandas.pydata.org/pandas-docs/stable/reference/api/pandas.DataFrame.describe.html"
   ]
  },
  {
   "cell_type": "code",
   "execution_count": 35,
   "id": "a9611e0f",
   "metadata": {
    "scrolled": true
   },
   "outputs": [
    {
     "data": {
      "text/html": [
       "<div>\n",
       "<style scoped>\n",
       "    .dataframe tbody tr th:only-of-type {\n",
       "        vertical-align: middle;\n",
       "    }\n",
       "\n",
       "    .dataframe tbody tr th {\n",
       "        vertical-align: top;\n",
       "    }\n",
       "\n",
       "    .dataframe thead th {\n",
       "        text-align: right;\n",
       "    }\n",
       "</style>\n",
       "<table border=\"1\" class=\"dataframe\">\n",
       "  <thead>\n",
       "    <tr style=\"text-align: right;\">\n",
       "      <th></th>\n",
       "      <th>Unnamed: 0</th>\n",
       "    </tr>\n",
       "  </thead>\n",
       "  <tbody>\n",
       "    <tr>\n",
       "      <th>count</th>\n",
       "      <td>8737.000000</td>\n",
       "    </tr>\n",
       "    <tr>\n",
       "      <th>mean</th>\n",
       "      <td>4368.000000</td>\n",
       "    </tr>\n",
       "    <tr>\n",
       "      <th>std</th>\n",
       "      <td>2522.298984</td>\n",
       "    </tr>\n",
       "    <tr>\n",
       "      <th>min</th>\n",
       "      <td>0.000000</td>\n",
       "    </tr>\n",
       "    <tr>\n",
       "      <th>25%</th>\n",
       "      <td>2184.000000</td>\n",
       "    </tr>\n",
       "    <tr>\n",
       "      <th>50%</th>\n",
       "      <td>4368.000000</td>\n",
       "    </tr>\n",
       "    <tr>\n",
       "      <th>75%</th>\n",
       "      <td>6552.000000</td>\n",
       "    </tr>\n",
       "    <tr>\n",
       "      <th>max</th>\n",
       "      <td>8736.000000</td>\n",
       "    </tr>\n",
       "  </tbody>\n",
       "</table>\n",
       "</div>"
      ],
      "text/plain": [
       "        Unnamed: 0\n",
       "count  8737.000000\n",
       "mean   4368.000000\n",
       "std    2522.298984\n",
       "min       0.000000\n",
       "25%    2184.000000\n",
       "50%    4368.000000\n",
       "75%    6552.000000\n",
       "max    8736.000000"
      ]
     },
     "execution_count": 35,
     "metadata": {},
     "output_type": "execute_result"
    }
   ],
   "source": [
    "# Die Methode \"describe\" gibt ein Überblicksstatistiken für numerische Spalten zurück\n",
    "rodenkirchen.describe()"
   ]
  },
  {
   "cell_type": "markdown",
   "id": "60ae2b45",
   "metadata": {},
   "source": [
    "Aus Interesse schau ich mir die ersten 100 Ergebnisse an, vllt ist da etwas Spannendes zu sehen"
   ]
  },
  {
   "cell_type": "code",
   "execution_count": 36,
   "id": "6495f02a",
   "metadata": {
    "scrolled": true
   },
   "outputs": [
    {
     "data": {
      "text/html": [
       "<div>\n",
       "<style scoped>\n",
       "    .dataframe tbody tr th:only-of-type {\n",
       "        vertical-align: middle;\n",
       "    }\n",
       "\n",
       "    .dataframe tbody tr th {\n",
       "        vertical-align: top;\n",
       "    }\n",
       "\n",
       "    .dataframe thead th {\n",
       "        text-align: right;\n",
       "    }\n",
       "</style>\n",
       "<table border=\"1\" class=\"dataframe\">\n",
       "  <thead>\n",
       "    <tr style=\"text-align: right;\">\n",
       "      <th></th>\n",
       "      <th>Unnamed: 0</th>\n",
       "      <th>Stationscode</th>\n",
       "      <th>Datum</th>\n",
       "      <th>Feinstaub (PM₁₀) stündlich gleitendes Tagesmittel in µg/m³</th>\n",
       "      <th>Ozon (O₃) Ein-Stunden-Mittelwert in µg/m³</th>\n",
       "      <th>Stickstoffdioxid (NO₂) Ein-Stunden-Mittelwert in µg/m³</th>\n",
       "      <th>Luftqualitätsindex</th>\n",
       "    </tr>\n",
       "  </thead>\n",
       "  <tbody>\n",
       "    <tr>\n",
       "      <th>0</th>\n",
       "      <td>0</td>\n",
       "      <td>DENW059</td>\n",
       "      <td>'01.11.2020 01:00'</td>\n",
       "      <td>10</td>\n",
       "      <td>30</td>\n",
       "      <td>14</td>\n",
       "      <td>sehr gut</td>\n",
       "    </tr>\n",
       "    <tr>\n",
       "      <th>1</th>\n",
       "      <td>1</td>\n",
       "      <td>DENW059</td>\n",
       "      <td>'01.11.2020 02:00'</td>\n",
       "      <td>10</td>\n",
       "      <td>35</td>\n",
       "      <td>8</td>\n",
       "      <td>sehr gut</td>\n",
       "    </tr>\n",
       "    <tr>\n",
       "      <th>2</th>\n",
       "      <td>2</td>\n",
       "      <td>DENW059</td>\n",
       "      <td>'01.11.2020 03:00'</td>\n",
       "      <td>10</td>\n",
       "      <td>-</td>\n",
       "      <td>11</td>\n",
       "      <td>sehr gut</td>\n",
       "    </tr>\n",
       "    <tr>\n",
       "      <th>3</th>\n",
       "      <td>3</td>\n",
       "      <td>DENW059</td>\n",
       "      <td>'01.11.2020 04:00'</td>\n",
       "      <td>10</td>\n",
       "      <td>19</td>\n",
       "      <td>4</td>\n",
       "      <td>sehr gut</td>\n",
       "    </tr>\n",
       "    <tr>\n",
       "      <th>4</th>\n",
       "      <td>4</td>\n",
       "      <td>DENW059</td>\n",
       "      <td>'01.11.2020 05:00'</td>\n",
       "      <td>10</td>\n",
       "      <td>10</td>\n",
       "      <td>3</td>\n",
       "      <td>sehr gut</td>\n",
       "    </tr>\n",
       "    <tr>\n",
       "      <th>...</th>\n",
       "      <td>...</td>\n",
       "      <td>...</td>\n",
       "      <td>...</td>\n",
       "      <td>...</td>\n",
       "      <td>...</td>\n",
       "      <td>...</td>\n",
       "      <td>...</td>\n",
       "    </tr>\n",
       "    <tr>\n",
       "      <th>95</th>\n",
       "      <td>95</td>\n",
       "      <td>DENW059</td>\n",
       "      <td>'04.11.2020 24:00'</td>\n",
       "      <td>14</td>\n",
       "      <td>-</td>\n",
       "      <td>27</td>\n",
       "      <td>gut</td>\n",
       "    </tr>\n",
       "    <tr>\n",
       "      <th>96</th>\n",
       "      <td>96</td>\n",
       "      <td>DENW059</td>\n",
       "      <td>'05.11.2020 01:00'</td>\n",
       "      <td>15</td>\n",
       "      <td>-</td>\n",
       "      <td>25</td>\n",
       "      <td>gut</td>\n",
       "    </tr>\n",
       "    <tr>\n",
       "      <th>97</th>\n",
       "      <td>97</td>\n",
       "      <td>DENW059</td>\n",
       "      <td>'05.11.2020 02:00'</td>\n",
       "      <td>15</td>\n",
       "      <td>-</td>\n",
       "      <td>20</td>\n",
       "      <td>sehr gut</td>\n",
       "    </tr>\n",
       "    <tr>\n",
       "      <th>98</th>\n",
       "      <td>98</td>\n",
       "      <td>DENW059</td>\n",
       "      <td>'05.11.2020 03:00'</td>\n",
       "      <td>15</td>\n",
       "      <td>-</td>\n",
       "      <td>18</td>\n",
       "      <td>sehr gut</td>\n",
       "    </tr>\n",
       "    <tr>\n",
       "      <th>99</th>\n",
       "      <td>99</td>\n",
       "      <td>DENW059</td>\n",
       "      <td>'05.11.2020 04:00'</td>\n",
       "      <td>16</td>\n",
       "      <td>-</td>\n",
       "      <td>16</td>\n",
       "      <td>sehr gut</td>\n",
       "    </tr>\n",
       "  </tbody>\n",
       "</table>\n",
       "<p>100 rows × 7 columns</p>\n",
       "</div>"
      ],
      "text/plain": [
       "    Unnamed: 0 Stationscode               Datum  \\\n",
       "0            0      DENW059  '01.11.2020 01:00'   \n",
       "1            1      DENW059  '01.11.2020 02:00'   \n",
       "2            2      DENW059  '01.11.2020 03:00'   \n",
       "3            3      DENW059  '01.11.2020 04:00'   \n",
       "4            4      DENW059  '01.11.2020 05:00'   \n",
       "..         ...          ...                 ...   \n",
       "95          95      DENW059  '04.11.2020 24:00'   \n",
       "96          96      DENW059  '05.11.2020 01:00'   \n",
       "97          97      DENW059  '05.11.2020 02:00'   \n",
       "98          98      DENW059  '05.11.2020 03:00'   \n",
       "99          99      DENW059  '05.11.2020 04:00'   \n",
       "\n",
       "   Feinstaub (PM₁₀) stündlich gleitendes Tagesmittel in µg/m³  \\\n",
       "0                                                  10           \n",
       "1                                                  10           \n",
       "2                                                  10           \n",
       "3                                                  10           \n",
       "4                                                  10           \n",
       "..                                                ...           \n",
       "95                                                 14           \n",
       "96                                                 15           \n",
       "97                                                 15           \n",
       "98                                                 15           \n",
       "99                                                 16           \n",
       "\n",
       "   Ozon (O₃) Ein-Stunden-Mittelwert in µg/m³  \\\n",
       "0                                         30   \n",
       "1                                         35   \n",
       "2                                          -   \n",
       "3                                         19   \n",
       "4                                         10   \n",
       "..                                       ...   \n",
       "95                                         -   \n",
       "96                                         -   \n",
       "97                                         -   \n",
       "98                                         -   \n",
       "99                                         -   \n",
       "\n",
       "   Stickstoffdioxid (NO₂) Ein-Stunden-Mittelwert in µg/m³ Luftqualitätsindex  \n",
       "0                                                  14               sehr gut  \n",
       "1                                                   8               sehr gut  \n",
       "2                                                  11               sehr gut  \n",
       "3                                                   4               sehr gut  \n",
       "4                                                   3               sehr gut  \n",
       "..                                                ...                    ...  \n",
       "95                                                 27                    gut  \n",
       "96                                                 25                    gut  \n",
       "97                                                 20               sehr gut  \n",
       "98                                                 18               sehr gut  \n",
       "99                                                 16               sehr gut  \n",
       "\n",
       "[100 rows x 7 columns]"
      ]
     },
     "execution_count": 36,
     "metadata": {},
     "output_type": "execute_result"
    }
   ],
   "source": [
    "rodenkirchen.head(100)"
   ]
  },
  {
   "cell_type": "markdown",
   "id": "9078c24b",
   "metadata": {},
   "source": [
    "Ich sehe z.B. jetzt, dass es Felder ohne Inhalt (\"-\") gibt. \n",
    "Ich kann noch einmal die Methode \"describe\" anwenden, allerdings dann die nicht existierenden Werte rausschmeißen."
   ]
  },
  {
   "cell_type": "code",
   "execution_count": 37,
   "id": "159694b7",
   "metadata": {},
   "outputs": [],
   "source": [
    "rodenkirchen_decribe = pd.read_csv(rodenkirchen_file, na_values=[\"-\"])"
   ]
  },
  {
   "cell_type": "code",
   "execution_count": 38,
   "id": "610f3b59",
   "metadata": {},
   "outputs": [
    {
     "data": {
      "text/html": [
       "<div>\n",
       "<style scoped>\n",
       "    .dataframe tbody tr th:only-of-type {\n",
       "        vertical-align: middle;\n",
       "    }\n",
       "\n",
       "    .dataframe tbody tr th {\n",
       "        vertical-align: top;\n",
       "    }\n",
       "\n",
       "    .dataframe thead th {\n",
       "        text-align: right;\n",
       "    }\n",
       "</style>\n",
       "<table border=\"1\" class=\"dataframe\">\n",
       "  <thead>\n",
       "    <tr style=\"text-align: right;\">\n",
       "      <th></th>\n",
       "      <th>Unnamed: 0</th>\n",
       "      <th>Feinstaub (PM₁₀) stündlich gleitendes Tagesmittel in µg/m³</th>\n",
       "      <th>Ozon (O₃) Ein-Stunden-Mittelwert in µg/m³</th>\n",
       "      <th>Stickstoffdioxid (NO₂) Ein-Stunden-Mittelwert in µg/m³</th>\n",
       "    </tr>\n",
       "  </thead>\n",
       "  <tbody>\n",
       "    <tr>\n",
       "      <th>count</th>\n",
       "      <td>8737.000000</td>\n",
       "      <td>8691.000000</td>\n",
       "      <td>8129.000000</td>\n",
       "      <td>8393.000000</td>\n",
       "    </tr>\n",
       "    <tr>\n",
       "      <th>mean</th>\n",
       "      <td>4368.000000</td>\n",
       "      <td>13.747900</td>\n",
       "      <td>36.914208</td>\n",
       "      <td>21.746408</td>\n",
       "    </tr>\n",
       "    <tr>\n",
       "      <th>std</th>\n",
       "      <td>2522.298984</td>\n",
       "      <td>6.851536</td>\n",
       "      <td>27.767770</td>\n",
       "      <td>13.391521</td>\n",
       "    </tr>\n",
       "    <tr>\n",
       "      <th>min</th>\n",
       "      <td>0.000000</td>\n",
       "      <td>0.000000</td>\n",
       "      <td>0.000000</td>\n",
       "      <td>0.600000</td>\n",
       "    </tr>\n",
       "    <tr>\n",
       "      <th>25%</th>\n",
       "      <td>2184.000000</td>\n",
       "      <td>9.000000</td>\n",
       "      <td>13.000000</td>\n",
       "      <td>12.000000</td>\n",
       "    </tr>\n",
       "    <tr>\n",
       "      <th>50%</th>\n",
       "      <td>4368.000000</td>\n",
       "      <td>12.000000</td>\n",
       "      <td>34.000000</td>\n",
       "      <td>19.000000</td>\n",
       "    </tr>\n",
       "    <tr>\n",
       "      <th>75%</th>\n",
       "      <td>6552.000000</td>\n",
       "      <td>17.000000</td>\n",
       "      <td>56.000000</td>\n",
       "      <td>28.000000</td>\n",
       "    </tr>\n",
       "    <tr>\n",
       "      <th>max</th>\n",
       "      <td>8736.000000</td>\n",
       "      <td>65.000000</td>\n",
       "      <td>161.000000</td>\n",
       "      <td>135.000000</td>\n",
       "    </tr>\n",
       "  </tbody>\n",
       "</table>\n",
       "</div>"
      ],
      "text/plain": [
       "        Unnamed: 0  \\\n",
       "count  8737.000000   \n",
       "mean   4368.000000   \n",
       "std    2522.298984   \n",
       "min       0.000000   \n",
       "25%    2184.000000   \n",
       "50%    4368.000000   \n",
       "75%    6552.000000   \n",
       "max    8736.000000   \n",
       "\n",
       "       Feinstaub (PM₁₀) stündlich gleitendes Tagesmittel in µg/m³  \\\n",
       "count                                        8691.000000            \n",
       "mean                                           13.747900            \n",
       "std                                             6.851536            \n",
       "min                                             0.000000            \n",
       "25%                                             9.000000            \n",
       "50%                                            12.000000            \n",
       "75%                                            17.000000            \n",
       "max                                            65.000000            \n",
       "\n",
       "       Ozon (O₃) Ein-Stunden-Mittelwert in µg/m³  \\\n",
       "count                                8129.000000   \n",
       "mean                                   36.914208   \n",
       "std                                    27.767770   \n",
       "min                                     0.000000   \n",
       "25%                                    13.000000   \n",
       "50%                                    34.000000   \n",
       "75%                                    56.000000   \n",
       "max                                   161.000000   \n",
       "\n",
       "       Stickstoffdioxid (NO₂) Ein-Stunden-Mittelwert in µg/m³  \n",
       "count                                        8393.000000       \n",
       "mean                                           21.746408       \n",
       "std                                            13.391521       \n",
       "min                                             0.600000       \n",
       "25%                                            12.000000       \n",
       "50%                                            19.000000       \n",
       "75%                                            28.000000       \n",
       "max                                           135.000000       "
      ]
     },
     "execution_count": 38,
     "metadata": {},
     "output_type": "execute_result"
    }
   ],
   "source": [
    "rodenkirchen_decribe.describe()"
   ]
  },
  {
   "cell_type": "markdown",
   "id": "a4664367",
   "metadata": {},
   "source": [
    "### Wählen Sie eine der Variablen, geben Sie diese an und beschreiben Sie welche Informationen für diese Variable (Spalte) von ‚describe‘ geliefert werden."
   ]
  },
  {
   "cell_type": "markdown",
   "id": "37163930",
   "metadata": {},
   "source": [
    "Ich nehme die Spalte \"Stickstoffdioxid (NO₂) Ein-Stunden-Mittelwert in µg/m³\" (ab jetzt \"Stickstoffdioxid\" gennant). Dazu könnte ich Folgendes sagen:\n",
    "\n",
    "count: \n",
    "Im Vergleich zu der Anzahl von Reihen im df rodenkirchen ist die count-Angabe kleiner - 8737.000000 zu 8393.000000. Ich gehe davon aus, dass der Grund ist, dass es in der Spalte \"Stickstoffdioxid\" na_values gab.\n",
    "\n",
    "mean: \n",
    "Der Durchschnittswert (mean) liegt bei 21.746408. Trotzdem wäre es wichtig, auch den Medianwert zu ermitteln. Er ist, meine ich, verlässlicher als der Durchschnittswert, weil der Durchschnittswert durch ein paar Ausreißer geändert werden kann.\n",
    "\n",
    "min: \n",
    "min liegt hier bei 0.600000. Ich verstehe es so, dass man immer Stickstoffdioxid in der Luft hat, nur manchmal sind die Mengen sehr klein."
   ]
  },
  {
   "cell_type": "markdown",
   "id": "ba9d2e2a",
   "metadata": {},
   "source": [
    "---------------------------------------------------------"
   ]
  },
  {
   "cell_type": "markdown",
   "id": "f04c8f56",
   "metadata": {},
   "source": [
    "### 3. Diskutieren Sie, wann und warum es sinnvoll sein kann, für die Datenanalyse eine Programmiersprache wie Python oder ähnliche Lösungen zu nutzen. "
   ]
  },
  {
   "cell_type": "markdown",
   "id": "ddc438b5",
   "metadata": {},
   "source": [
    "1) Es ist einfacher, mit Python automatisierte Prozesse zu entwickeln. Damit kann man sich wiederholende Aufgaben erledigen.\n",
    "Mit Excel/ Excel VBA würde es unter Umständen auch gehen. Python ist eventuell mächtiges und schneller in dieser Hinsicht."
   ]
  },
  {
   "cell_type": "markdown",
   "id": "6199dfb3",
   "metadata": {},
   "source": [
    "2) Python kann sehr große Datenmengen bearbeten, da kommt Excel je nach Aufgabe auf seine Grenzen."
   ]
  },
  {
   "cell_type": "markdown",
   "id": "cf95249e",
   "metadata": {},
   "source": [
    "3) Es gibt mehrere Bibliotheken für Visualisierungen in Python: plotly, seaborn, matpotlib etc. Damit lassen sich\n",
    "überzeugene Visualisierungen machen. Je nach Bibliothek kann man auch animierte Visualisierunngen erzeugen. Wenn fertig, \n",
    "kann man eine Visualisierung als z.B. HTML oder als cvg (Scalable Vector Graphic) exportieren für weitere Schritte: \n",
    "zum Embedden auf einer Webseite oder zur weiteren Bearbeitung im Adobe Illustrator."
   ]
  },
  {
   "cell_type": "markdown",
   "id": "2bb769bb",
   "metadata": {},
   "source": [
    "4) In Python kann man auch sentimant analysis machen, NLP Projekte durchführen. Diese Sachen sind interessant für Journalisten, aber auch für Marketing-Exprterten. "
   ]
  },
  {
   "cell_type": "markdown",
   "id": "6efffc14",
   "metadata": {},
   "source": [
    "5) Excel kann unter Umständen eine Zahl z.B. als Datum interprtieren. Das kann zu Fehlern führen. "
   ]
  },
  {
   "cell_type": "markdown",
   "id": "4a7d75a8",
   "metadata": {},
   "source": [
    "------------------------------------------------------"
   ]
  },
  {
   "cell_type": "markdown",
   "id": "fcd05b08",
   "metadata": {},
   "source": [
    "Random question: Wie kann die Luftqualität ausfallen?"
   ]
  },
  {
   "cell_type": "code",
   "execution_count": 39,
   "id": "ef728ffb",
   "metadata": {},
   "outputs": [
    {
     "data": {
      "text/plain": [
       "array(['sehr gut', 'gut', 'mäßig', 'schlecht'], dtype=object)"
      ]
     },
     "execution_count": 39,
     "metadata": {},
     "output_type": "execute_result"
    }
   ],
   "source": [
    "rodenkirchen[\"Luftqualitätsindex\"].unique()"
   ]
  },
  {
   "cell_type": "markdown",
   "id": "ce1b6903",
   "metadata": {},
   "source": [
    "Ok, die Luftqualitätsindex kann sehr gut, gut, mäßig und schlecht sein. "
   ]
  }
 ],
 "metadata": {
  "kernelspec": {
   "display_name": "Python 3",
   "language": "python",
   "name": "python3"
  },
  "language_info": {
   "codemirror_mode": {
    "name": "ipython",
    "version": 3
   },
   "file_extension": ".py",
   "mimetype": "text/x-python",
   "name": "python",
   "nbconvert_exporter": "python",
   "pygments_lexer": "ipython3",
   "version": "3.9.5"
  }
 },
 "nbformat": 4,
 "nbformat_minor": 5
}
